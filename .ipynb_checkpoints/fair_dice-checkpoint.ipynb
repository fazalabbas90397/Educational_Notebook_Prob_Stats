{
 "cells": [
  {
   "cell_type": "markdown",
   "id": "46be094e",
   "metadata": {},
   "source": [
    "# 1. Introduction\n",
    "\n",
    "**Probability is a branch of mathematics that deals with uncertainty and randomness. It provides a framework for quantifying the likelihood of various outcomes in uncertain situations. Probability plays a crucial role in numerous fields, including science, engineering, finance, and everyday decision-making.**\n",
    "\n",
    "## Importance of Probability in Various Fields:\n",
    "\n",
    "**Games:** Probability is fundamental in games of chance, such as rolling dice, flipping coins, and playing card games. Understanding probabilities helps players make informed decisions and strategize their moves.\n",
    "\n",
    "**Statistics:** Probability is the foundation of statistics, enabling researchers to draw conclusions from data. Concepts like confidence intervals, hypothesis testing, and regression analysis rely heavily on probability theory.\n",
    "\n",
    "**Decision-Making:** In real-life scenarios, uncertainty is common. Probability aids decision-making by assessing the likelihood of different outcomes, helping individuals and businesses make rational choices.\n",
    "\n",
    "**Finance:** In financial markets, probabilities are used to model stock prices, predict market movements, and manage risk in investment portfolios.\n",
    "\n",
    "**Machine Learning:** Probability is essential in machine learning algorithms, where uncertainty is inherent. Probabilistic models allow AI systems to make predictions with associated confidence levels."
   ]
  },
  {
   "cell_type": "markdown",
   "id": "8e67bfda",
   "metadata": {},
   "source": [
    "# 2. Basic Concepts\n",
    "\n",
    "**Sample Space:** The sample space, denoted by S, is the set of all possible outcomes of a random experiment. It encompasses all conceivable results of an uncertain event.\n",
    "\n",
    "**Event:** An event is a subset of the sample space, representing a particular outcome or combination of outcomes. Events are denoted by capital letters (e.g., A, B, C).\n",
    "\n",
    "**Probability:** Probability is a numerical measure of the likelihood of an event occurring. It is denoted by P(A), where A is the event of interest. The probability of an event lies between 0 (impossible) and 1 (certain).\n",
    "\n",
    "**Random Experiments:** These are experiments with uncertain outcomes, and their results cannot be predicted with certainty. Examples include flipping a coin, rolling a dice, and drawing cards from a deck.\n",
    "\n",
    "**Outcomes:** The potential results of a random experiment are called outcomes. For example, when tossing a fair coin, the outcomes are 'heads' and 'tails'.\n",
    "\n",
    "Understanding these basic concepts lays the groundwork for delving deeper into probability theory and its applications. By grasping the fundamentals, individuals can make informed decisions, analyze data, and gain insights in various fields of study and real-life situations."
   ]
  },
  {
   "cell_type": "markdown",
   "id": "82128f47",
   "metadata": {},
   "source": [
    "# 3. Probability Calculation\n",
    "\n",
    "**Probability can be calculated for events using two main approaches:** for *equally likely events* and for *non-equally likely events*. Let's delve into each approach and provide examples using the classic coin toss and dice roll scenarios.\n",
    "\n",
    "## A. Equally Likely Events:\n",
    "\n",
    "⚫ When events are equally likely, it means that each outcome has an equal chance of occurring. In such cases, the probability of an event A happening is calculated as follows:\n",
    "***Probability of event A = Number of favorable outcomes for A / Total number of possible outcomes***\n"
   ]
  },
  {
   "cell_type": "markdown",
   "id": "1eb4d610",
   "metadata": {},
   "source": [
    "# Example: Coin Toss\n",
    "\n",
    "Suppose we have a fair coin (a coin with equal probabilities of landing heads or tails). Let's calculate the probability of getting heads (event A) when flipping the coin.\n",
    "\n",
    "Number of favorable outcomes for A (getting heads) = 1 (since there is one way to get heads).\n",
    "\n",
    "Total number of possible outcomes = 2 (since there are two possible outcomes: heads or tails).\n",
    "\n",
    "Probability of getting heads (event A) = 1/2 = 0.5 or 50%.\n",
    "\n",
    "\n",
    "\n",
    "***BELOW IS A SIMULATION OF THE COIN TOSS USING PYTHON***"
   ]
  },
  {
   "cell_type": "code",
   "execution_count": 19,
   "id": "36d396c8",
   "metadata": {},
   "outputs": [
    {
     "name": "stdout",
     "output_type": "stream",
     "text": [
      "Number of times you want to Flip the coin:   1\n",
      "HEADS:   0\n",
      "TAILS:   1\n"
     ]
    }
   ],
   "source": [
    "def coin_toss_simulation():\n",
    "    global heads\n",
    "    global tails\n",
    "    import random\n",
    "    heads = 0\n",
    "    tails = 0\n",
    "\n",
    "    trial_number = int(input(\"Number of times you want to Flip the coin:   \"))\n",
    "    for i in range(trial_number):\n",
    "        result = random.randint(0, 1)\n",
    "        if result == 1:\n",
    "            heads = heads + 1\n",
    "        else:\n",
    "            tails = tails + 1\n",
    "\n",
    "    print(\"HEADS:  \", heads)\n",
    "    print(\"TAILS:  \", tails)\n",
    "\n",
    "coin_toss_simulation()\n",
    "\n",
    "\n",
    "\n"
   ]
  },
  {
   "cell_type": "markdown",
   "id": "94ad8efa",
   "metadata": {},
   "source": [
    "# Example: Dice Roll\n",
    "\n",
    "**Consider a standard six-sided dice. Let's calculate the probability of rolling a 3 (event A).**\n",
    "\n",
    "\n",
    "⚫Number of favorable outcomes for A (rolling a 3) = 1 (since there is only one way to roll a 3 on a six-sided dice).\n",
    "\n",
    "⚫ Total number of possible outcomes = 6 (since there are six faces on the dice).\n",
    "\n",
    "⚫Probability of rolling a 3 (event A) = 1/6 ≈ 0.1667 or 16.67%.\n",
    "\n",
    "\n",
    "***BELOW IS A SIMULATION OF THE DICE ROLL USING PYTHON***\n",
    "\n",
    "⚫*In this code, the dice_roll_simulation() function simulates rolling a six-sided dice for a specified number of trials. The goal is to count and keep track of the number of times an even number (2, 4, or 6) and an odd number (1, 3, or 5) are rolled.*\n",
    "\n",
    "⚫**Probability Interpretation:**\n",
    "\n",
    "By running this simulation, you can gain insights into the probabilities of rolling even and odd numbers on a fair six-sided dice. Since each outcome (1 to 6) is equally likely in a fair dice, the theoretical probability of rolling an even number is 3/6 (or 1/2) since there are three even numbers (2, 4, and 6) out of a total of six possible outcomes. Similarly, the theoretical probability of rolling an odd number is also 3/6 (or 1/2).\n",
    "\n",
    "When you run the simulation with a large number of trials, the experiment's results should converge to the theoretical probabilities of 1/2 for both even and odd numbers. The more trials you perform, the closer the experimental results will be to the theoretical probabilities, demonstrating the concept of the Law of Large Numbers. This law states that as the number of trials increases, the experimental results tend to approach the true probabilities of the events."
   ]
  },
  {
   "cell_type": "code",
   "execution_count": 22,
   "id": "aa43f1c1",
   "metadata": {},
   "outputs": [
    {
     "name": "stdout",
     "output_type": "stream",
     "text": [
      "Number of times you want to roll the dice:   1000\n",
      "EVEN:   512\n",
      "ODD:   488\n"
     ]
    }
   ],
   "source": [
    "def dice_roll_simulation():\n",
    "    global odd\n",
    "    global even\n",
    "    import random\n",
    "    odd = 0\n",
    "    even = 0\n",
    "\n",
    "    trial_number = int(input(\"Number of times you want to roll the dice:   \"))\n",
    "    for i in range(trial_number):\n",
    "        result = random.randint(1, 6)\n",
    "        if result%2 == 0:\n",
    "            even = even + 1\n",
    "        else:\n",
    "            odd = odd + 1\n",
    "\n",
    "    print(\"EVEN:  \", even)\n",
    "    print(\"ODD:  \", odd)\n",
    "\n",
    "dice_roll_simulation()"
   ]
  },
  {
   "cell_type": "code",
   "execution_count": null,
   "id": "9c5189bf",
   "metadata": {},
   "outputs": [],
   "source": []
  }
 ],
 "metadata": {
  "kernelspec": {
   "display_name": "Python 3 (ipykernel)",
   "language": "python",
   "name": "python3"
  },
  "language_info": {
   "codemirror_mode": {
    "name": "ipython",
    "version": 3
   },
   "file_extension": ".py",
   "mimetype": "text/x-python",
   "name": "python",
   "nbconvert_exporter": "python",
   "pygments_lexer": "ipython3",
   "version": "3.10.9"
  }
 },
 "nbformat": 4,
 "nbformat_minor": 5
}
