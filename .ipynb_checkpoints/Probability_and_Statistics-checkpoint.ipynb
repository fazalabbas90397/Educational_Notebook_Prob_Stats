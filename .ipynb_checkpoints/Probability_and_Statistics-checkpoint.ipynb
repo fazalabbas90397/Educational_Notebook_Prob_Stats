{
 "cells": [
  {
   "cell_type": "markdown",
   "id": "b0d93aab",
   "metadata": {},
   "source": [
    "<font style=\"font-size:28px;\" align=\"left\"><b>Educational Open Sourced Notebook: Probability and Statistics</b></font>\n",
    "<br>\n",
    "prepared by Write your names, batch and other contact info. You may add your linkedin profile links, email etc\n",
    "<br><br>"
   ]
  },
  {
   "cell_type": "markdown",
   "id": "8f314215",
   "metadata": {},
   "source": [
    "<h1 align=\"left\" style=\"color: #cd7f32;\"> Contents </h1>"
   ]
  },
  {
   "cell_type": "markdown",
   "id": "57362c03",
   "metadata": {},
   "source": [
    "### 1- Introduction to Probability\n",
    "\n",
    "[Fair Dice and Coin Toss ](prob_basics.ipynb) &nbsp;|&nbsp;\n",
    "\n",
    "\n",
    "\n",
    "### 2- Introduction to Statistics\n",
    "\n",
    "[Mean](mean.ipynb) &nbsp;|&nbsp;\n",
    "[Median](MEDIAN.ipynb) &nbsp;|&nbsp;\n",
    "[Mode](MODE.ipynb) &nbsp;|&nbsp;\n",
    "\n",
    "\n"
   ]
  }
 ],
 "metadata": {
  "kernelspec": {
   "display_name": "Python 3 (ipykernel)",
   "language": "python",
   "name": "python3"
  },
  "language_info": {
   "codemirror_mode": {
    "name": "ipython",
    "version": 3
   },
   "file_extension": ".py",
   "mimetype": "text/x-python",
   "name": "python",
   "nbconvert_exporter": "python",
   "pygments_lexer": "ipython3",
   "version": "3.10.9"
  }
 },
 "nbformat": 4,
 "nbformat_minor": 5
}
