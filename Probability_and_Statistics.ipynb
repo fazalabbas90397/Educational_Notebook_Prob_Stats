{
 "cells": [
  {
   "cell_type": "markdown",
   "id": "b0d93aab",
   "metadata": {},
   "source": [
    "<font style=\"font-size:28px;\" align=\"left\"><b>Educational Open Sourced Notebook: Probability and Statistics</b></font>\n",
    "<br>\n",
    "prepared by Write your names, batch and other contact info. You may add your linkedin profile links, email etc\n",
    "<br><br>"
   ]
  },
  {
   "cell_type": "markdown",
   "id": "8f314215",
   "metadata": {},
   "source": [
    "<h1 align=\"left\" style=\"color: #cd7f32;\"> Contents </h1>"
   ]
  },
  {
   "cell_type": "markdown",
   "id": "57362c03",
   "metadata": {},
   "source": [
    "### 1- Introduction to Probability\n",
    "\n",
    "[Basics Of Probability using a fair die ](Basics Of Probability using a fair die .ipynb) &nbsp;|&nbsp;\n",
    "[Coin toss and monty hall problem](Coin toss and monty hall problem.ipynb) &nbsp;|&nbsp;\n",
    "[Birthday PAradox](Birthday PAradox.ipynb) &nbsp;|&nbsp;\n",
    "\n",
    "\n",
    "\n",
    "### 2- Conditional Probability\n",
    "\n",
    "[sub topic 2a](sub_topic_2a.ipynb) &nbsp;|&nbsp;\n",
    "[sub topic 2b](sub_topic_2b.ipynb) &nbsp;|&nbsp;\n",
    "[sub topic 2c](sub_topic_2c.ipynb) &nbsp;|&nbsp;\n",
    "\n",
    "\n",
    "### 3- Introduction to Statistics\n",
    "\n",
    "[sub topic 3a](sub_topic_3a.ipynb) &nbsp;|&nbsp;\n",
    "[sub topic 3b](sub_topic_3b.ipynb) &nbsp;|&nbsp;\n",
    "[sub topic 3c](sub_topic_3c.ipynb) &nbsp;|&nbsp;\n",
    "\n",
    "\n"
   ]
  },
  {
   "cell_type": "code",
   "execution_count": null,
   "id": "2e797d30",
   "metadata": {},
   "outputs": [],
   "source": []
  }
 ],
 "metadata": {
  "kernelspec": {
   "display_name": "Python 3 (ipykernel)",
   "language": "python",
   "name": "python3"
  },
  "language_info": {
   "codemirror_mode": {
    "name": "ipython",
    "version": 3
   },
   "file_extension": ".py",
   "mimetype": "text/x-python",
   "name": "python",
   "nbconvert_exporter": "python",
   "pygments_lexer": "ipython3",
   "version": "3.10.9"
  }
 },
 "nbformat": 4,
 "nbformat_minor": 5
}
