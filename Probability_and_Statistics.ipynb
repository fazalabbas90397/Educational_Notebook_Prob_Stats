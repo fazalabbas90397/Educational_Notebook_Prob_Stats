{
 "cells": [
  {
   "cell_type": "markdown",
   "id": "b0d93aab",
   "metadata": {},
   "source": [
    "<font style=\"font-size:28px;\" align=\"left\"><b>Educational Open Sourced Notebook: Probability and Statistics</b></font>\n",
    "<br>\n",
    "prepared by Write your names, batch and other contact info\n",
    "<br><br>"
   ]
  },
  {
   "cell_type": "markdown",
   "id": "8f314215",
   "metadata": {},
   "source": [
    "<h1 align=\"left\" style=\"color: #cd7f32;\"> Contents </h1>"
   ]
  },
  {
   "cell_type": "markdown",
   "id": "57362c03",
   "metadata": {},
   "source": [
    "### Topic 1\n",
    "\n",
    "[sub topic 1a](sub_topic_1a.ipynb) &nbsp;|&nbsp;\n",
    "[sub topic 1b](sub_topic_1b.ipynb) &nbsp;|&nbsp;\n",
    "[sub topic 1c](sub_topic_1c.ipynb) &nbsp;|&nbsp;\n",
    "\n",
    "\n",
    "\n",
    "### Topic 2\n",
    "\n",
    "\n",
    "---\n",
    "\n",
    "### Topic 3\n",
    "\n",
    "\n"
   ]
  }
 ],
 "metadata": {
  "kernelspec": {
   "display_name": "Python 3 (ipykernel)",
   "language": "python",
   "name": "python3"
  },
  "language_info": {
   "codemirror_mode": {
    "name": "ipython",
    "version": 3
   },
   "file_extension": ".py",
   "mimetype": "text/x-python",
   "name": "python",
   "nbconvert_exporter": "python",
   "pygments_lexer": "ipython3",
   "version": "3.10.9"
  }
 },
 "nbformat": 4,
 "nbformat_minor": 5
}
